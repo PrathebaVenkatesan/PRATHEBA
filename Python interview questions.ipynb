{
 "cells": [
  {
   "cell_type": "code",
   "execution_count": 3,
   "id": "b6fc7173",
   "metadata": {},
   "outputs": [],
   "source": [
    "##1. How do we create numerical variables in python?\n",
    "pi=3.14159\n",
    "diameter=3"
   ]
  },
  {
   "cell_type": "code",
   "execution_count": 4,
   "id": "064b0b17",
   "metadata": {},
   "outputs": [
    {
     "data": {
      "text/plain": [
       "float"
      ]
     },
     "execution_count": 4,
     "metadata": {},
     "output_type": "execute_result"
    }
   ],
   "source": [
    "type(pi)"
   ]
  },
  {
   "cell_type": "code",
   "execution_count": 5,
   "id": "714d3af1",
   "metadata": {},
   "outputs": [
    {
     "data": {
      "text/plain": [
       "int"
      ]
     },
     "execution_count": 5,
     "metadata": {},
     "output_type": "execute_result"
    }
   ],
   "source": [
    "type(diameter)"
   ]
  },
  {
   "cell_type": "code",
   "execution_count": 11,
   "id": "e9400a87",
   "metadata": {},
   "outputs": [],
   "source": [
    "##2. How do we perform calculations in python?\n",
    "\n",
    "def radius(a):\n",
    "    radius=a/2\n",
    "    print(radius)\n"
   ]
  },
  {
   "cell_type": "code",
   "execution_count": 12,
   "id": "4849ab37",
   "metadata": {},
   "outputs": [
    {
     "name": "stdout",
     "output_type": "stream",
     "text": [
      "3.0\n"
     ]
    }
   ],
   "source": [
    "radius(6)"
   ]
  },
  {
   "cell_type": "code",
   "execution_count": 15,
   "id": "32c32cb8",
   "metadata": {},
   "outputs": [],
   "source": [
    "def area(a):\n",
    "    pi=3.14159\n",
    "    area=pi*a*a\n",
    "    return(area)"
   ]
  },
  {
   "cell_type": "code",
   "execution_count": 16,
   "id": "53ec6652",
   "metadata": {},
   "outputs": [
    {
     "data": {
      "text/plain": [
       "78.53975"
      ]
     },
     "execution_count": 16,
     "metadata": {},
     "output_type": "execute_result"
    }
   ],
   "source": [
    "area(5)"
   ]
  },
  {
   "cell_type": "code",
   "execution_count": 20,
   "id": "16c5f5a2",
   "metadata": {},
   "outputs": [
    {
     "name": "stdout",
     "output_type": "stream",
     "text": [
      "0\n"
     ]
    }
   ],
   "source": [
    "##3. Give an example of BODMAS in python?\n",
    "\n",
    "a= (8-3)*(2-(1 + 1))\n",
    "print(a)"
   ]
  },
  {
   "cell_type": "code",
   "execution_count": 10,
   "id": "1ca03017",
   "metadata": {},
   "outputs": [],
   "source": [
    "def bodmas(a,b,c,d,e):\n",
    "    sum=(a-b)*c-(d/e)\n",
    "    print (sum)"
   ]
  },
  {
   "cell_type": "code",
   "execution_count": 11,
   "id": "709f0c79",
   "metadata": {},
   "outputs": [
    {
     "name": "stdout",
     "output_type": "stream",
     "text": [
      "9.0\n"
     ]
    }
   ],
   "source": [
    "bodmas(8,3,2,1,1)"
   ]
  },
  {
   "cell_type": "code",
   "execution_count": 16,
   "id": "adf5ae18",
   "metadata": {},
   "outputs": [
    {
     "data": {
      "text/plain": [
       "3"
      ]
     },
     "execution_count": 16,
     "metadata": {},
     "output_type": "execute_result"
    }
   ],
   "source": [
    "##4. Give examples of list?\n",
    "a = [1, 2, 3]\n",
    "len(a)"
   ]
  },
  {
   "cell_type": "code",
   "execution_count": 17,
   "id": "8661b761",
   "metadata": {},
   "outputs": [
    {
     "data": {
      "text/plain": [
       "2"
      ]
     },
     "execution_count": 17,
     "metadata": {},
     "output_type": "execute_result"
    }
   ],
   "source": [
    "b = [1, [2, 3]] \n",
    "len(b)"
   ]
  },
  {
   "cell_type": "code",
   "execution_count": 25,
   "id": "ca186280",
   "metadata": {},
   "outputs": [
    {
     "name": "stdout",
     "output_type": "stream",
     "text": [
      "23456\n",
      "8765\n"
     ]
    }
   ],
   "source": [
    "##5.How do we interchange the values of two lists?\n",
    "a=[int(i) for i in input()]\n",
    "b=[int(i) for i in input()]"
   ]
  },
  {
   "cell_type": "code",
   "execution_count": 26,
   "id": "b8819302",
   "metadata": {},
   "outputs": [
    {
     "data": {
      "text/plain": [
       "[2, 3, 4, 5, 6]"
      ]
     },
     "execution_count": 26,
     "metadata": {},
     "output_type": "execute_result"
    }
   ],
   "source": [
    "a"
   ]
  },
  {
   "cell_type": "code",
   "execution_count": 27,
   "id": "e3225df9",
   "metadata": {},
   "outputs": [
    {
     "data": {
      "text/plain": [
       "[8, 7, 6, 5]"
      ]
     },
     "execution_count": 27,
     "metadata": {},
     "output_type": "execute_result"
    }
   ],
   "source": [
    "b"
   ]
  },
  {
   "cell_type": "code",
   "execution_count": 28,
   "id": "3228e3e6",
   "metadata": {},
   "outputs": [],
   "source": [
    "a,b=b,a"
   ]
  },
  {
   "cell_type": "code",
   "execution_count": 29,
   "id": "aa725628",
   "metadata": {},
   "outputs": [
    {
     "data": {
      "text/plain": [
       "[8, 7, 6, 5]"
      ]
     },
     "execution_count": 29,
     "metadata": {},
     "output_type": "execute_result"
    }
   ],
   "source": [
    "a"
   ]
  },
  {
   "cell_type": "code",
   "execution_count": 30,
   "id": "2418874a",
   "metadata": {},
   "outputs": [
    {
     "data": {
      "text/plain": [
       "[2, 3, 4, 5, 6]"
      ]
     },
     "execution_count": 30,
     "metadata": {},
     "output_type": "execute_result"
    }
   ],
   "source": [
    "b"
   ]
  },
  {
   "cell_type": "code",
   "execution_count": 31,
   "id": "dc707455",
   "metadata": {},
   "outputs": [
    {
     "data": {
      "text/plain": [
       "'explorer'"
      ]
     },
     "execution_count": 31,
     "metadata": {},
     "output_type": "execute_result"
    }
   ],
   "source": [
    "#6. How do we extract values from list?\n",
    "a=['google','yahoo','explorer','bing']\n",
    "a[2]"
   ]
  },
  {
   "cell_type": "code",
   "execution_count": 33,
   "id": "a6e9ebf2",
   "metadata": {},
   "outputs": [
    {
     "data": {
      "text/plain": [
       "'yahoo'"
      ]
     },
     "execution_count": 33,
     "metadata": {},
     "output_type": "execute_result"
    }
   ],
   "source": [
    "a[-3]"
   ]
  },
  {
   "cell_type": "code",
   "execution_count": 37,
   "id": "cd61bed7",
   "metadata": {},
   "outputs": [],
   "source": [
    "##7.How we create loops in python using list?\n",
    "def greater(a,b,c):\n",
    "    if a>b and a>c:\n",
    "        print('a is greatest')\n",
    "    elif b>c and b>a:\n",
    "        print('b is greatest')\n",
    "    else:\n",
    "        print('c is greatest')"
   ]
  },
  {
   "cell_type": "code",
   "execution_count": 38,
   "id": "a9b030b1",
   "metadata": {},
   "outputs": [
    {
     "name": "stdout",
     "output_type": "stream",
     "text": [
      "a is greatest\n"
     ]
    }
   ],
   "source": [
    "greater(9,4,5)"
   ]
  },
  {
   "cell_type": "code",
   "execution_count": 39,
   "id": "572945c7",
   "metadata": {},
   "outputs": [
    {
     "name": "stdout",
     "output_type": "stream",
     "text": [
      "23456\n"
     ]
    }
   ],
   "source": [
    "#greatest values in list\n",
    "a=[int(i) for i in input()]"
   ]
  },
  {
   "cell_type": "code",
   "execution_count": 42,
   "id": "1844fc20",
   "metadata": {},
   "outputs": [],
   "source": [
    "a.sort()"
   ]
  },
  {
   "cell_type": "code",
   "execution_count": 43,
   "id": "22909acf",
   "metadata": {},
   "outputs": [
    {
     "data": {
      "text/plain": [
       "[2, 3, 4, 5, 6]"
      ]
     },
     "execution_count": 43,
     "metadata": {},
     "output_type": "execute_result"
    }
   ],
   "source": [
    "a"
   ]
  },
  {
   "cell_type": "code",
   "execution_count": 44,
   "id": "94e979f1",
   "metadata": {},
   "outputs": [
    {
     "data": {
      "text/plain": [
       "6"
      ]
     },
     "execution_count": 44,
     "metadata": {},
     "output_type": "execute_result"
    }
   ],
   "source": [
    "a[-1]"
   ]
  },
  {
   "cell_type": "code",
   "execution_count": 45,
   "id": "633104ed",
   "metadata": {},
   "outputs": [],
   "source": [
    "l=['google','yahoo','bing']"
   ]
  },
  {
   "cell_type": "code",
   "execution_count": 46,
   "id": "90f08c48",
   "metadata": {},
   "outputs": [
    {
     "name": "stdout",
     "output_type": "stream",
     "text": [
      "yahoo\n"
     ]
    }
   ],
   "source": [
    "for i in l:\n",
    "    if i=='yahoo':\n",
    "        print(i)"
   ]
  },
  {
   "cell_type": "code",
   "execution_count": 48,
   "id": "5965337c",
   "metadata": {},
   "outputs": [
    {
     "name": "stdout",
     "output_type": "stream",
     "text": [
      "enter a string:greetings\n"
     ]
    },
    {
     "data": {
      "text/plain": [
       "9"
      ]
     },
     "execution_count": 48,
     "metadata": {},
     "output_type": "execute_result"
    }
   ],
   "source": [
    "##8. Give examples of String?\n",
    "a=input('enter a string:')\n",
    "len(a)"
   ]
  },
  {
   "cell_type": "code",
   "execution_count": 50,
   "id": "d3635a9b",
   "metadata": {},
   "outputs": [
    {
     "data": {
      "text/plain": [
       "False"
      ]
     },
     "execution_count": 50,
     "metadata": {},
     "output_type": "execute_result"
    }
   ],
   "source": [
    "##9. Give an example of Boolean?\n",
    "0==1"
   ]
  },
  {
   "cell_type": "code",
   "execution_count": 51,
   "id": "1536da49",
   "metadata": {},
   "outputs": [
    {
     "data": {
      "text/plain": [
       "True"
      ]
     },
     "execution_count": 51,
     "metadata": {},
     "output_type": "execute_result"
    }
   ],
   "source": [
    "1!=2"
   ]
  },
  {
   "cell_type": "code",
   "execution_count": 55,
   "id": "22c15311",
   "metadata": {},
   "outputs": [
    {
     "name": "stdout",
     "output_type": "stream",
     "text": [
      "True\n",
      "True\n",
      "False\n"
     ]
    }
   ],
   "source": [
    "##10. How do we perform operations on Boolean?\n",
    "print((9 > 7) and (2 < 4)) \n",
    "print((8 == 8) or (6 != 6)) \n",
    "print((3 < 1))"
   ]
  },
  {
   "cell_type": "code",
   "execution_count": 1,
   "id": "8a4b9eb6",
   "metadata": {},
   "outputs": [],
   "source": [
    "##11. What are function in python?\n",
    "\n",
    "def round_num(a):\n",
    "    return round(a,2)"
   ]
  },
  {
   "cell_type": "code",
   "execution_count": 2,
   "id": "48c2af34",
   "metadata": {},
   "outputs": [
    {
     "data": {
      "text/plain": [
       "3.14"
      ]
     },
     "execution_count": 2,
     "metadata": {},
     "output_type": "execute_result"
    }
   ],
   "source": [
    "round_num(3.14159)"
   ]
  },
  {
   "cell_type": "code",
   "execution_count": 3,
   "id": "085d25c3",
   "metadata": {},
   "outputs": [],
   "source": [
    "##12. Calculating remainder in python?\n",
    "def remainder(a,b):\n",
    "    c=a%b\n",
    "    return c"
   ]
  },
  {
   "cell_type": "code",
   "execution_count": 5,
   "id": "f0a6612e",
   "metadata": {},
   "outputs": [
    {
     "data": {
      "text/plain": [
       "1"
      ]
     },
     "execution_count": 5,
     "metadata": {},
     "output_type": "execute_result"
    }
   ],
   "source": [
    "remainder(91,3)"
   ]
  },
  {
   "cell_type": "code",
   "execution_count": null,
   "id": "38f312df",
   "metadata": {},
   "outputs": [],
   "source": []
  }
 ],
 "metadata": {
  "kernelspec": {
   "display_name": "Python 3",
   "language": "python",
   "name": "python3"
  },
  "language_info": {
   "codemirror_mode": {
    "name": "ipython",
    "version": 3
   },
   "file_extension": ".py",
   "mimetype": "text/x-python",
   "name": "python",
   "nbconvert_exporter": "python",
   "pygments_lexer": "ipython3",
   "version": "3.8.8"
  }
 },
 "nbformat": 4,
 "nbformat_minor": 5
}
