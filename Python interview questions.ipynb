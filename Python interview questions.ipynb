{
 "cells": [
  {
   "cell_type": "code",
   "execution_count": 3,
   "id": "b6fc7173",
   "metadata": {},
   "outputs": [],
   "source": [
    "##1. How do we create numerical variables in python?\n",
    "pi=3.14159\n",
    "diameter=3"
   ]
  },
  {
   "cell_type": "code",
   "execution_count": 4,
   "id": "064b0b17",
   "metadata": {},
   "outputs": [
    {
     "data": {
      "text/plain": [
       "float"
      ]
     },
     "execution_count": 4,
     "metadata": {},
     "output_type": "execute_result"
    }
   ],
   "source": [
    "type(pi)"
   ]
  },
  {
   "cell_type": "code",
   "execution_count": 5,
   "id": "714d3af1",
   "metadata": {},
   "outputs": [
    {
     "data": {
      "text/plain": [
       "int"
      ]
     },
     "execution_count": 5,
     "metadata": {},
     "output_type": "execute_result"
    }
   ],
   "source": [
    "type(diameter)"
   ]
  },
  {
   "cell_type": "code",
   "execution_count": 11,
   "id": "e9400a87",
   "metadata": {},
   "outputs": [],
   "source": [
    "##2. How do we perform calculations in python?\n",
    "\n",
    "def radius(a):\n",
    "    radius=a/2\n",
    "    print(radius)\n"
   ]
  },
  {
   "cell_type": "code",
   "execution_count": 12,
   "id": "4849ab37",
   "metadata": {},
   "outputs": [
    {
     "name": "stdout",
     "output_type": "stream",
     "text": [
      "3.0\n"
     ]
    }
   ],
   "source": [
    "radius(6)"
   ]
  },
  {
   "cell_type": "code",
   "execution_count": 15,
   "id": "32c32cb8",
   "metadata": {},
   "outputs": [],
   "source": [
    "def area(a):\n",
    "    pi=3.14159\n",
    "    area=pi*a*a\n",
    "    return(area)"
   ]
  },
  {
   "cell_type": "code",
   "execution_count": 16,
   "id": "53ec6652",
   "metadata": {},
   "outputs": [
    {
     "data": {
      "text/plain": [
       "78.53975"
      ]
     },
     "execution_count": 16,
     "metadata": {},
     "output_type": "execute_result"
    }
   ],
   "source": [
    "area(5)"
   ]
  },
  {
   "cell_type": "code",
   "execution_count": 20,
   "id": "16c5f5a2",
   "metadata": {},
   "outputs": [
    {
     "name": "stdout",
     "output_type": "stream",
     "text": [
      "0\n"
     ]
    }
   ],
   "source": [
    "##3. Give an example of BODMAS in python?\n",
    "\n",
    "a= (8-3)*(2-(1 + 1))\n",
    "print(a)"
   ]
  },
  {
   "cell_type": "code",
   "execution_count": 10,
   "id": "1ca03017",
   "metadata": {},
   "outputs": [],
   "source": [
    "def bodmas(a,b,c,d,e):\n",
    "    sum=(a-b)*c-(d/e)\n",
    "    print (sum)"
   ]
  },
  {
   "cell_type": "code",
   "execution_count": 11,
   "id": "709f0c79",
   "metadata": {},
   "outputs": [
    {
     "name": "stdout",
     "output_type": "stream",
     "text": [
      "9.0\n"
     ]
    }
   ],
   "source": [
    "bodmas(8,3,2,1,1)"
   ]
  },
  {
   "cell_type": "code",
   "execution_count": 16,
   "id": "adf5ae18",
   "metadata": {},
   "outputs": [
    {
     "data": {
      "text/plain": [
       "3"
      ]
     },
     "execution_count": 16,
     "metadata": {},
     "output_type": "execute_result"
    }
   ],
   "source": [
    "##4. Give examples of list?\n",
    "a = [1, 2, 3]\n",
    "len(a)"
   ]
  },
  {
   "cell_type": "code",
   "execution_count": 17,
   "id": "8661b761",
   "metadata": {},
   "outputs": [
    {
     "data": {
      "text/plain": [
       "2"
      ]
     },
     "execution_count": 17,
     "metadata": {},
     "output_type": "execute_result"
    }
   ],
   "source": [
    "b = [1, [2, 3]] \n",
    "len(b)"
   ]
  },
  {
   "cell_type": "code",
   "execution_count": 25,
   "id": "ca186280",
   "metadata": {},
   "outputs": [
    {
     "name": "stdout",
     "output_type": "stream",
     "text": [
      "23456\n",
      "8765\n"
     ]
    }
   ],
   "source": [
    "##5.How do we interchange the values of two lists?\n",
    "a=[int(i) for i in input()]\n",
    "b=[int(i) for i in input()]"
   ]
  },
  {
   "cell_type": "code",
   "execution_count": 26,
   "id": "b8819302",
   "metadata": {},
   "outputs": [
    {
     "data": {
      "text/plain": [
       "[2, 3, 4, 5, 6]"
      ]
     },
     "execution_count": 26,
     "metadata": {},
     "output_type": "execute_result"
    }
   ],
   "source": [
    "a"
   ]
  },
  {
   "cell_type": "code",
   "execution_count": 27,
   "id": "e3225df9",
   "metadata": {},
   "outputs": [
    {
     "data": {
      "text/plain": [
       "[8, 7, 6, 5]"
      ]
     },
     "execution_count": 27,
     "metadata": {},
     "output_type": "execute_result"
    }
   ],
   "source": [
    "b"
   ]
  },
  {
   "cell_type": "code",
   "execution_count": 28,
   "id": "3228e3e6",
   "metadata": {},
   "outputs": [],
   "source": [
    "a,b=b,a"
   ]
  },
  {
   "cell_type": "code",
   "execution_count": 29,
   "id": "aa725628",
   "metadata": {},
   "outputs": [
    {
     "data": {
      "text/plain": [
       "[8, 7, 6, 5]"
      ]
     },
     "execution_count": 29,
     "metadata": {},
     "output_type": "execute_result"
    }
   ],
   "source": [
    "a"
   ]
  },
  {
   "cell_type": "code",
   "execution_count": 30,
   "id": "2418874a",
   "metadata": {},
   "outputs": [
    {
     "data": {
      "text/plain": [
       "[2, 3, 4, 5, 6]"
      ]
     },
     "execution_count": 30,
     "metadata": {},
     "output_type": "execute_result"
    }
   ],
   "source": [
    "b"
   ]
  },
  {
   "cell_type": "code",
   "execution_count": 31,
   "id": "dc707455",
   "metadata": {},
   "outputs": [
    {
     "data": {
      "text/plain": [
       "'explorer'"
      ]
     },
     "execution_count": 31,
     "metadata": {},
     "output_type": "execute_result"
    }
   ],
   "source": [
    "#6. How do we extract values from list?\n",
    "a=['google','yahoo','explorer','bing']\n",
    "a[2]"
   ]
  },
  {
   "cell_type": "code",
   "execution_count": 33,
   "id": "a6e9ebf2",
   "metadata": {},
   "outputs": [
    {
     "data": {
      "text/plain": [
       "'yahoo'"
      ]
     },
     "execution_count": 33,
     "metadata": {},
     "output_type": "execute_result"
    }
   ],
   "source": [
    "a[-3]"
   ]
  },
  {
   "cell_type": "code",
   "execution_count": 37,
   "id": "cd61bed7",
   "metadata": {},
   "outputs": [],
   "source": [
    "##7.How we create loops in python using list?\n",
    "def greater(a,b,c):\n",
    "    if a>b and a>c:\n",
    "        print('a is greatest')\n",
    "    elif b>c and b>a:\n",
    "        print('b is greatest')\n",
    "    else:\n",
    "        print('c is greatest')"
   ]
  },
  {
   "cell_type": "code",
   "execution_count": 38,
   "id": "a9b030b1",
   "metadata": {},
   "outputs": [
    {
     "name": "stdout",
     "output_type": "stream",
     "text": [
      "a is greatest\n"
     ]
    }
   ],
   "source": [
    "greater(9,4,5)"
   ]
  },
  {
   "cell_type": "code",
   "execution_count": 39,
   "id": "572945c7",
   "metadata": {},
   "outputs": [
    {
     "name": "stdout",
     "output_type": "stream",
     "text": [
      "23456\n"
     ]
    }
   ],
   "source": [
    "#greatest values in list\n",
    "a=[int(i) for i in input()]"
   ]
  },
  {
   "cell_type": "code",
   "execution_count": 42,
   "id": "1844fc20",
   "metadata": {},
   "outputs": [],
   "source": [
    "a.sort()"
   ]
  },
  {
   "cell_type": "code",
   "execution_count": 43,
   "id": "22909acf",
   "metadata": {},
   "outputs": [
    {
     "data": {
      "text/plain": [
       "[2, 3, 4, 5, 6]"
      ]
     },
     "execution_count": 43,
     "metadata": {},
     "output_type": "execute_result"
    }
   ],
   "source": [
    "a"
   ]
  },
  {
   "cell_type": "code",
   "execution_count": 44,
   "id": "94e979f1",
   "metadata": {},
   "outputs": [
    {
     "data": {
      "text/plain": [
       "6"
      ]
     },
     "execution_count": 44,
     "metadata": {},
     "output_type": "execute_result"
    }
   ],
   "source": [
    "a[-1]"
   ]
  },
  {
   "cell_type": "code",
   "execution_count": 45,
   "id": "633104ed",
   "metadata": {},
   "outputs": [],
   "source": [
    "l=['google','yahoo','bing']"
   ]
  },
  {
   "cell_type": "code",
   "execution_count": 46,
   "id": "90f08c48",
   "metadata": {},
   "outputs": [
    {
     "name": "stdout",
     "output_type": "stream",
     "text": [
      "yahoo\n"
     ]
    }
   ],
   "source": [
    "for i in l:\n",
    "    if i=='yahoo':\n",
    "        print(i)"
   ]
  },
  {
   "cell_type": "code",
   "execution_count": 48,
   "id": "5965337c",
   "metadata": {},
   "outputs": [
    {
     "name": "stdout",
     "output_type": "stream",
     "text": [
      "enter a string:greetings\n"
     ]
    },
    {
     "data": {
      "text/plain": [
       "9"
      ]
     },
     "execution_count": 48,
     "metadata": {},
     "output_type": "execute_result"
    }
   ],
   "source": [
    "##8. Give examples of String?\n",
    "a=input('enter a string:')\n",
    "len(a)"
   ]
  },
  {
   "cell_type": "code",
   "execution_count": 50,
   "id": "d3635a9b",
   "metadata": {},
   "outputs": [
    {
     "data": {
      "text/plain": [
       "False"
      ]
     },
     "execution_count": 50,
     "metadata": {},
     "output_type": "execute_result"
    }
   ],
   "source": [
    "##9. Give an example of Boolean?\n",
    "0==1"
   ]
  },
  {
   "cell_type": "code",
   "execution_count": 51,
   "id": "1536da49",
   "metadata": {},
   "outputs": [
    {
     "data": {
      "text/plain": [
       "True"
      ]
     },
     "execution_count": 51,
     "metadata": {},
     "output_type": "execute_result"
    }
   ],
   "source": [
    "1!=2"
   ]
  },
  {
   "cell_type": "code",
   "execution_count": 55,
   "id": "22c15311",
   "metadata": {},
   "outputs": [
    {
     "name": "stdout",
     "output_type": "stream",
     "text": [
      "True\n",
      "True\n",
      "False\n"
     ]
    }
   ],
   "source": [
    "##10. How do we perform operations on Boolean?\n",
    "print((9 > 7) and (2 < 4)) \n",
    "print((8 == 8) or (6 != 6)) \n",
    "print((3 < 1))"
   ]
  },
  {
   "cell_type": "code",
   "execution_count": 1,
   "id": "8a4b9eb6",
   "metadata": {},
   "outputs": [],
   "source": [
    "##11. What are function in python?\n",
    "\n",
    "def round_num(a):\n",
    "    return round(a,2)"
   ]
  },
  {
   "cell_type": "code",
   "execution_count": 2,
   "id": "48c2af34",
   "metadata": {},
   "outputs": [
    {
     "data": {
      "text/plain": [
       "3.14"
      ]
     },
     "execution_count": 2,
     "metadata": {},
     "output_type": "execute_result"
    }
   ],
   "source": [
    "round_num(3.14159)"
   ]
  },
  {
   "cell_type": "code",
   "execution_count": 3,
   "id": "085d25c3",
   "metadata": {},
   "outputs": [],
   "source": [
    "##12. Calculating remainder in python?\n",
    "def remainder(a,b):\n",
    "    c=a%b\n",
    "    return c"
   ]
  },
  {
   "cell_type": "code",
   "execution_count": 5,
   "id": "f0a6612e",
   "metadata": {},
   "outputs": [
    {
     "data": {
      "text/plain": [
       "1"
      ]
     },
     "execution_count": 5,
     "metadata": {},
     "output_type": "execute_result"
    }
   ],
   "source": [
    "remainder(91,3)"
   ]
  },
  {
   "cell_type": "code",
   "execution_count": 1,
   "id": "38f312df",
   "metadata": {},
   "outputs": [],
   "source": [
    "##16. What is lambda in Python?\n",
    "x=lambda a:a**a"
   ]
  },
  {
   "cell_type": "code",
   "execution_count": 2,
   "id": "24ab9a55",
   "metadata": {},
   "outputs": [
    {
     "data": {
      "text/plain": [
       "3125"
      ]
     },
     "execution_count": 2,
     "metadata": {},
     "output_type": "execute_result"
    }
   ],
   "source": [
    "x(5)"
   ]
  },
  {
   "cell_type": "code",
   "execution_count": 3,
   "id": "32a5d856",
   "metadata": {},
   "outputs": [
    {
     "data": {
      "text/plain": [
       "[3, 4, 5, 6, 7]"
      ]
     },
     "execution_count": 3,
     "metadata": {},
     "output_type": "execute_result"
    }
   ],
   "source": [
    "##18. What is slicing?\n",
    "a=[1,2,3,4,5,6,7]\n",
    "a[2:]\n"
   ]
  },
  {
   "cell_type": "code",
   "execution_count": 4,
   "id": "3ef79f5a",
   "metadata": {},
   "outputs": [
    {
     "data": {
      "text/plain": [
       "[2, 3]"
      ]
     },
     "execution_count": 4,
     "metadata": {},
     "output_type": "execute_result"
    }
   ],
   "source": [
    "a[1:3]"
   ]
  },
  {
   "cell_type": "code",
   "execution_count": 9,
   "id": "f0380e26",
   "metadata": {},
   "outputs": [
    {
     "data": {
      "text/plain": [
       "[6, 5, 4, 3, 2, 1]"
      ]
     },
     "execution_count": 9,
     "metadata": {},
     "output_type": "execute_result"
    }
   ],
   "source": [
    "##19. What is negative index in Python?\n",
    "a[-2::-1]"
   ]
  },
  {
   "cell_type": "code",
   "execution_count": 10,
   "id": "e3497c62",
   "metadata": {},
   "outputs": [
    {
     "name": "stdout",
     "output_type": "stream",
     "text": [
      "3\n"
     ]
    }
   ],
   "source": [
    "##20. How you can convert a number to a string?\n",
    "a=str(input())"
   ]
  },
  {
   "cell_type": "code",
   "execution_count": 11,
   "id": "b904bca2",
   "metadata": {},
   "outputs": [
    {
     "data": {
      "text/plain": [
       "str"
      ]
     },
     "execution_count": 11,
     "metadata": {},
     "output_type": "execute_result"
    }
   ],
   "source": [
    "type(a)"
   ]
  },
  {
   "cell_type": "code",
   "execution_count": 12,
   "id": "25e43151",
   "metadata": {},
   "outputs": [
    {
     "data": {
      "text/plain": [
       "'0o1'"
      ]
     },
     "execution_count": 12,
     "metadata": {},
     "output_type": "execute_result"
    }
   ],
   "source": [
    "oct(1)"
   ]
  },
  {
   "cell_type": "code",
   "execution_count": 13,
   "id": "aee95f0a",
   "metadata": {},
   "outputs": [
    {
     "data": {
      "text/plain": [
       "'0x8b0'"
      ]
     },
     "execution_count": 13,
     "metadata": {},
     "output_type": "execute_result"
    }
   ],
   "source": [
    "hex(2224)"
   ]
  },
  {
   "cell_type": "code",
   "execution_count": 17,
   "id": "bac684f8",
   "metadata": {},
   "outputs": [],
   "source": [
    "##21.What is range function?\n",
    "def range_num(n):\n",
    "    for i in range(1,n):\n",
    "        print(i)"
   ]
  },
  {
   "cell_type": "code",
   "execution_count": 18,
   "id": "e7ae553f",
   "metadata": {},
   "outputs": [
    {
     "name": "stdout",
     "output_type": "stream",
     "text": [
      "1\n",
      "2\n",
      "3\n",
      "4\n",
      "5\n"
     ]
    }
   ],
   "source": [
    "range_num(6)"
   ]
  },
  {
   "cell_type": "code",
   "execution_count": 10,
   "id": "71fd2298",
   "metadata": {},
   "outputs": [],
   "source": [
    "##22.How do you generate random numbers in Python?\n",
    "import random\n",
    "def random_num():\n",
    "    n=random.random()\n",
    "    print(n)\n"
   ]
  },
  {
   "cell_type": "code",
   "execution_count": 11,
   "id": "40bd2bf1",
   "metadata": {},
   "outputs": [
    {
     "name": "stdout",
     "output_type": "stream",
     "text": [
      "0.2843730721588953\n"
     ]
    }
   ],
   "source": [
    "random_num()"
   ]
  },
  {
   "cell_type": "code",
   "execution_count": 23,
   "id": "066e5a83",
   "metadata": {},
   "outputs": [
    {
     "name": "stdout",
     "output_type": "stream",
     "text": [
      "[20, 18, 12, 2, 38]\n"
     ]
    }
   ],
   "source": [
    "import random\n",
    "randomlist=[]\n",
    "for i in range(1,6):\n",
    "    n=random.randint(1,50)\n",
    "    randomlist.append(n)\n",
    "print(randomlist)"
   ]
  },
  {
   "cell_type": "code",
   "execution_count": 24,
   "id": "2e10e7c7",
   "metadata": {},
   "outputs": [],
   "source": [
    "#23. What is the difference between / and // operator in Python?\n",
    "def operator(a,b):\n",
    "    num1=a/b\n",
    "    num2=a//b #floor division operator\n",
    "    print(num1)\n",
    "    print(num2)"
   ]
  },
  {
   "cell_type": "code",
   "execution_count": 25,
   "id": "ca7de320",
   "metadata": {},
   "outputs": [
    {
     "name": "stdout",
     "output_type": "stream",
     "text": [
      "1.6\n",
      "1\n"
     ]
    }
   ],
   "source": [
    "operator(8,5)"
   ]
  },
  {
   "cell_type": "code",
   "execution_count": 35,
   "id": "de409c4b",
   "metadata": {},
   "outputs": [
    {
     "name": "stdout",
     "output_type": "stream",
     "text": [
      "['greetings', 'for', 'the', 'day']\n"
     ]
    }
   ],
   "source": [
    "#24. What is the use of the split function in Python?\n",
    "a='greetings.for.the.day'\n",
    "n=a.split('.')\n",
    "print(n)"
   ]
  },
  {
   "cell_type": "code",
   "execution_count": 36,
   "id": "79619f51",
   "metadata": {},
   "outputs": [],
   "source": [
    "l=[1,2,3,4,5]"
   ]
  },
  {
   "cell_type": "code",
   "execution_count": 45,
   "id": "e29dbd82",
   "metadata": {},
   "outputs": [
    {
     "name": "stdout",
     "output_type": "stream",
     "text": [
      "1 2 3 4 5 \n"
     ]
    }
   ],
   "source": [
    "a=[int(i) for i in input().split()]"
   ]
  },
  {
   "cell_type": "code",
   "execution_count": 46,
   "id": "59187fd2",
   "metadata": {},
   "outputs": [
    {
     "data": {
      "text/plain": [
       "[1, 2, 3, 4, 5]"
      ]
     },
     "execution_count": 46,
     "metadata": {},
     "output_type": "execute_result"
    }
   ],
   "source": [
    "a"
   ]
  },
  {
   "cell_type": "markdown",
   "id": "18a3ed7d",
   "metadata": {},
   "source": [
    "#25. What is the difference between a list and a tuple?\n",
    "list mutable and tuples are immutable"
   ]
  },
  {
   "cell_type": "markdown",
   "id": "0161c6d4",
   "metadata": {},
   "source": [
    "26. What is the difference between an array and a list?\n",
    "array needed to be imported from libraries and there is no need for importing in list"
   ]
  },
  {
   "cell_type": "code",
   "execution_count": 2,
   "id": "7c1a7d7b",
   "metadata": {},
   "outputs": [
    {
     "data": {
      "text/plain": [
       "array([1, 2, 3, 4, 5, 6])"
      ]
     },
     "execution_count": 2,
     "metadata": {},
     "output_type": "execute_result"
    }
   ],
   "source": [
    "##27. How would you convert a list to an array?\n",
    "a=[1,2,3,4,5,6]\n",
    "import numpy as np\n",
    "np.array(a)"
   ]
  },
  {
   "cell_type": "code",
   "execution_count": null,
   "id": "f38397f3",
   "metadata": {},
   "outputs": [],
   "source": [
    "##28. What are the advantages of NumPy arrays over Python lists?\n",
    "numpy is more convinenent\n",
    "statistical operations can be performed "
   ]
  },
  {
   "cell_type": "code",
   "execution_count": null,
   "id": "3b5c313a",
   "metadata": {},
   "outputs": [],
   "source": [
    "##29. What are global and local variables in Python?\n",
    "#variables declared outside the function is known as global variables\n",
    "#variables inside a function is local variable"
   ]
  },
  {
   "cell_type": "code",
   "execution_count": 3,
   "id": "9996254e",
   "metadata": {},
   "outputs": [],
   "source": [
    "##31. What is dictionary comprehension in Python?\n",
    "names=['pratheba','priya','shiny']\n",
    "rollno=[22,23,24]\n",
    "dict_names={i:j for (i,j) in zip (names,rollno)}"
   ]
  },
  {
   "cell_type": "code",
   "execution_count": 4,
   "id": "3341d537",
   "metadata": {},
   "outputs": [
    {
     "data": {
      "text/plain": [
       "{'pratheba': 22, 'priya': 23, 'shiny': 24}"
      ]
     },
     "execution_count": 4,
     "metadata": {},
     "output_type": "execute_result"
    }
   ],
   "source": [
    "dict_names"
   ]
  },
  {
   "cell_type": "code",
   "execution_count": 5,
   "id": "b7928ee7",
   "metadata": {},
   "outputs": [],
   "source": [
    "##32. How would you sort a dictionary in Python?\n",
    "fruits={'apple':5,'orange':4,'mango':10,'grapes':7}"
   ]
  },
  {
   "cell_type": "code",
   "execution_count": 7,
   "id": "c3b4d3d8",
   "metadata": {},
   "outputs": [
    {
     "data": {
      "text/plain": [
       "dict_keys(['apple', 'orange', 'mango', 'grapes'])"
      ]
     },
     "execution_count": 7,
     "metadata": {},
     "output_type": "execute_result"
    }
   ],
   "source": [
    "fruits.keys()"
   ]
  },
  {
   "cell_type": "code",
   "execution_count": 8,
   "id": "8d434c34",
   "metadata": {},
   "outputs": [
    {
     "data": {
      "text/plain": [
       "dict_values([5, 4, 10, 7])"
      ]
     },
     "execution_count": 8,
     "metadata": {},
     "output_type": "execute_result"
    }
   ],
   "source": [
    "fruits.values()"
   ]
  },
  {
   "cell_type": "code",
   "execution_count": 9,
   "id": "761f6094",
   "metadata": {},
   "outputs": [
    {
     "data": {
      "text/plain": [
       "dict_items([('apple', 5), ('orange', 4), ('mango', 10), ('grapes', 7)])"
      ]
     },
     "execution_count": 9,
     "metadata": {},
     "output_type": "execute_result"
    }
   ],
   "source": [
    "fruits.items()"
   ]
  },
  {
   "cell_type": "code",
   "execution_count": 20,
   "id": "b9b38945",
   "metadata": {},
   "outputs": [],
   "source": [
    "import operator\n",
    "x = {1: 2, 3: 4, 4: 3, 2: 1, 0: 0}\n",
    "sorted_x = sorted(x.items(), key=operator.itemgetter(0)) ##if itemgetter is 0 sorts by keys"
   ]
  },
  {
   "cell_type": "code",
   "execution_count": 21,
   "id": "5f28ed87",
   "metadata": {},
   "outputs": [
    {
     "data": {
      "text/plain": [
       "[(0, 0), (1, 2), (2, 1), (3, 4), (4, 3)]"
      ]
     },
     "execution_count": 21,
     "metadata": {},
     "output_type": "execute_result"
    }
   ],
   "source": [
    "sorted_x"
   ]
  },
  {
   "cell_type": "code",
   "execution_count": 22,
   "id": "1ec62ff8",
   "metadata": {},
   "outputs": [
    {
     "data": {
      "text/plain": [
       "'uoy era woh'"
      ]
     },
     "execution_count": 22,
     "metadata": {},
     "output_type": "execute_result"
    }
   ],
   "source": [
    "##33. How do you reverse a string in Python?\n",
    "p='how are you'\n",
    "p[::-1]"
   ]
  },
  {
   "cell_type": "code",
   "execution_count": 32,
   "id": "62b4f5ad",
   "metadata": {},
   "outputs": [
    {
     "name": "stdout",
     "output_type": "stream",
     "text": [
      "enter a string:welcome all\n",
      "enter a string:hi\n",
      "not present\n"
     ]
    }
   ],
   "source": [
    "##34. How do you check if a Python string contains another string?\n",
    "string=input('enter a string:')\n",
    "string1=input('enter a string:')\n",
    "for i in string:\n",
    "    if i in string1:\n",
    "        print('true')\n",
    "    else:\n",
    "        print('not present')\n",
    "    break"
   ]
  },
  {
   "cell_type": "code",
   "execution_count": null,
   "id": "61e11876",
   "metadata": {},
   "outputs": [],
   "source": []
  },
  {
   "cell_type": "code",
   "execution_count": null,
   "id": "a5c490be",
   "metadata": {},
   "outputs": [],
   "source": []
  }
 ],
 "metadata": {
  "kernelspec": {
   "display_name": "Python 3",
   "language": "python",
   "name": "python3"
  },
  "language_info": {
   "codemirror_mode": {
    "name": "ipython",
    "version": 3
   },
   "file_extension": ".py",
   "mimetype": "text/x-python",
   "name": "python",
   "nbconvert_exporter": "python",
   "pygments_lexer": "ipython3",
   "version": "3.8.8"
  }
 },
 "nbformat": 4,
 "nbformat_minor": 5
}
